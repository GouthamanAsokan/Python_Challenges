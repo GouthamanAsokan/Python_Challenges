{
  "nbformat": 4,
  "nbformat_minor": 0,
  "metadata": {
    "colab": {
      "name": "Reverse_Integers.ipynb",
      "provenance": []
    },
    "kernelspec": {
      "name": "python3",
      "display_name": "Python 3"
    }
  },
  "cells": [
    {
      "cell_type": "code",
      "metadata": {
        "id": "ZTgIu7SUvEZT"
      },
      "source": [
        "#Writing the function\n",
        "def solution(x):\n",
        "  a=str(x)\n",
        "\n",
        "  if (a[0]=='-'):\n",
        "    return int('-'+a[:0:-1])\n",
        "  else:\n",
        "    return int(a[::-1])"
      ],
      "execution_count": 1,
      "outputs": []
    },
    {
      "cell_type": "code",
      "metadata": {
        "colab": {
          "base_uri": "https://localhost:8080/"
        },
        "id": "S3cYZf8fv6l0",
        "outputId": "98450ce1-4843-4bc2-8e3e-83a8b2eeaa4f"
      },
      "source": [
        "solution(547)"
      ],
      "execution_count": 2,
      "outputs": [
        {
          "output_type": "execute_result",
          "data": {
            "text/plain": [
              "745"
            ]
          },
          "metadata": {
            "tags": []
          },
          "execution_count": 2
        }
      ]
    },
    {
      "cell_type": "code",
      "metadata": {
        "colab": {
          "base_uri": "https://localhost:8080/"
        },
        "id": "MMAoJJN_v9cp",
        "outputId": "d7eb1c10-5dac-44d4-8d8a-51234a121b9a"
      },
      "source": [
        "solution(-327)"
      ],
      "execution_count": 3,
      "outputs": [
        {
          "output_type": "execute_result",
          "data": {
            "text/plain": [
              "-723"
            ]
          },
          "metadata": {
            "tags": []
          },
          "execution_count": 3
        }
      ]
    }
  ]
}