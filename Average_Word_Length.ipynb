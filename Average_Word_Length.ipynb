{
  "nbformat": 4,
  "nbformat_minor": 0,
  "metadata": {
    "colab": {
      "name": "Average_Word_Length.ipynb",
      "provenance": []
    },
    "kernelspec": {
      "name": "python3",
      "display_name": "Python 3"
    }
  },
  "cells": [
    {
      "cell_type": "code",
      "metadata": {
        "id": "IOFH9oTqwwC2"
      },
      "source": [
        "sen1=\"Hi! My name is Gouthaman\""
      ],
      "execution_count": 9,
      "outputs": []
    },
    {
      "cell_type": "code",
      "metadata": {
        "id": "B7odjEKxw7y4"
      },
      "source": [
        "def avgwordfinder(sen):\n",
        "  for p in \"!.,:''\":\n",
        "    sen=sen.replace(p,'')\n",
        "  sen=sen.split()\n",
        "  sum=0\n",
        "  for word in sen:\n",
        "    sum+=len(word)/len(sen)\n",
        "  return round(sum,2)"
      ],
      "execution_count": 10,
      "outputs": []
    },
    {
      "cell_type": "code",
      "metadata": {
        "colab": {
          "base_uri": "https://localhost:8080/"
        },
        "id": "Fvm1OBsa0t1G",
        "outputId": "b1eb7e93-c4db-445f-d039-33076f7c63e5"
      },
      "source": [
        "avgwordfinder(sen1)"
      ],
      "execution_count": 11,
      "outputs": [
        {
          "output_type": "execute_result",
          "data": {
            "text/plain": [
              "3.8"
            ]
          },
          "metadata": {
            "tags": []
          },
          "execution_count": 11
        }
      ]
    },
    {
      "cell_type": "code",
      "metadata": {
        "id": "HPznW0bm00IR"
      },
      "source": [
        "sen2 = \"I need to work very hard to learn more about algorithms in Python!\""
      ],
      "execution_count": 12,
      "outputs": []
    },
    {
      "cell_type": "code",
      "metadata": {
        "id": "FKyv6ATu1Cf2",
        "outputId": "fc7c4456-0509-48fe-fc96-54722e050729",
        "colab": {
          "base_uri": "https://localhost:8080/"
        }
      },
      "source": [
        "avgwordfinder(sen2)"
      ],
      "execution_count": 13,
      "outputs": [
        {
          "output_type": "execute_result",
          "data": {
            "text/plain": [
              "4.08"
            ]
          },
          "metadata": {
            "tags": []
          },
          "execution_count": 13
        }
      ]
    }
  ]
}